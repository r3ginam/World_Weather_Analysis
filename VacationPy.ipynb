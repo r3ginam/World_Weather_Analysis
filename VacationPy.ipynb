{
 "cells": [
  {
   "cell_type": "code",
   "execution_count": 1,
   "metadata": {},
   "outputs": [],
   "source": [
    "# Import the dependencies.\n",
    "import pandas as pd\n",
    "import gmaps\n",
    "import requests\n",
    "# Import the API key.\n",
    "from config import g_key"
   ]
  },
  {
   "cell_type": "code",
   "execution_count": 2,
   "metadata": {},
   "outputs": [
    {
     "output_type": "execute_result",
     "data": {
      "text/plain": [
       "   City_ID             City Country                 Date      Lat       Lng  \\\n",
       "0        0          Kamenka      RU  2021-01-27 16:07:24  51.3223   42.7678   \n",
       "1        1  Haines Junction      CA  2021-01-27 16:07:24  60.7522 -137.5108   \n",
       "2        2      New Norfolk      AU  2021-01-27 16:07:25 -42.7826  147.0587   \n",
       "3        3   Lakes Entrance      AU  2021-01-27 16:07:25 -37.8811  147.9810   \n",
       "4        4            Kapaa      US  2021-01-27 16:07:25  22.0752 -159.3190   \n",
       "\n",
       "   Max Temp  Humidity  Cloudiness  Wind Speed  \n",
       "0     34.00        95         100        3.00  \n",
       "1    -27.40        68          45        1.14  \n",
       "2     55.00        64          83        1.39  \n",
       "3     63.00        84          99        7.00  \n",
       "4     73.99        88          75       13.80  "
      ],
      "text/html": "<div>\n<style scoped>\n    .dataframe tbody tr th:only-of-type {\n        vertical-align: middle;\n    }\n\n    .dataframe tbody tr th {\n        vertical-align: top;\n    }\n\n    .dataframe thead th {\n        text-align: right;\n    }\n</style>\n<table border=\"1\" class=\"dataframe\">\n  <thead>\n    <tr style=\"text-align: right;\">\n      <th></th>\n      <th>City_ID</th>\n      <th>City</th>\n      <th>Country</th>\n      <th>Date</th>\n      <th>Lat</th>\n      <th>Lng</th>\n      <th>Max Temp</th>\n      <th>Humidity</th>\n      <th>Cloudiness</th>\n      <th>Wind Speed</th>\n    </tr>\n  </thead>\n  <tbody>\n    <tr>\n      <th>0</th>\n      <td>0</td>\n      <td>Kamenka</td>\n      <td>RU</td>\n      <td>2021-01-27 16:07:24</td>\n      <td>51.3223</td>\n      <td>42.7678</td>\n      <td>34.00</td>\n      <td>95</td>\n      <td>100</td>\n      <td>3.00</td>\n    </tr>\n    <tr>\n      <th>1</th>\n      <td>1</td>\n      <td>Haines Junction</td>\n      <td>CA</td>\n      <td>2021-01-27 16:07:24</td>\n      <td>60.7522</td>\n      <td>-137.5108</td>\n      <td>-27.40</td>\n      <td>68</td>\n      <td>45</td>\n      <td>1.14</td>\n    </tr>\n    <tr>\n      <th>2</th>\n      <td>2</td>\n      <td>New Norfolk</td>\n      <td>AU</td>\n      <td>2021-01-27 16:07:25</td>\n      <td>-42.7826</td>\n      <td>147.0587</td>\n      <td>55.00</td>\n      <td>64</td>\n      <td>83</td>\n      <td>1.39</td>\n    </tr>\n    <tr>\n      <th>3</th>\n      <td>3</td>\n      <td>Lakes Entrance</td>\n      <td>AU</td>\n      <td>2021-01-27 16:07:25</td>\n      <td>-37.8811</td>\n      <td>147.9810</td>\n      <td>63.00</td>\n      <td>84</td>\n      <td>99</td>\n      <td>7.00</td>\n    </tr>\n    <tr>\n      <th>4</th>\n      <td>4</td>\n      <td>Kapaa</td>\n      <td>US</td>\n      <td>2021-01-27 16:07:25</td>\n      <td>22.0752</td>\n      <td>-159.3190</td>\n      <td>73.99</td>\n      <td>88</td>\n      <td>75</td>\n      <td>13.80</td>\n    </tr>\n  </tbody>\n</table>\n</div>"
     },
     "metadata": {},
     "execution_count": 2
    }
   ],
   "source": [
    "# Store the CSV you saved created in part one into a DataFrame.\n",
    "city_data_df = pd.read_csv(\"weather_data/cities.csv\")\n",
    "city_data_df.head()"
   ]
  },
  {
   "cell_type": "code",
   "execution_count": 3,
   "metadata": {},
   "outputs": [
    {
     "output_type": "execute_result",
     "data": {
      "text/plain": [
       "City_ID         int64\n",
       "City           object\n",
       "Country        object\n",
       "Date           object\n",
       "Lat           float64\n",
       "Lng           float64\n",
       "Max Temp      float64\n",
       "Humidity        int64\n",
       "Cloudiness      int64\n",
       "Wind Speed    float64\n",
       "dtype: object"
      ]
     },
     "metadata": {},
     "execution_count": 3
    }
   ],
   "source": [
    "city_data_df.dtypes"
   ]
  },
  {
   "cell_type": "code",
   "execution_count": 4,
   "metadata": {},
   "outputs": [],
   "source": [
    "# Configure gmaps to use your Google API key.\n",
    "gmaps.configure(api_key=g_key)"
   ]
  },
  {
   "cell_type": "code",
   "execution_count": 5,
   "metadata": {},
   "outputs": [],
   "source": [
    "# Get the maximum temperature.\n",
    "max_temp = city_data_df[\"Max Temp\"]\n",
    "temps = []\n",
    "for temp in max_temp:\n",
    "    temps.append(max(temp, 0))"
   ]
  },
  {
   "cell_type": "code",
   "execution_count": 6,
   "metadata": {},
   "outputs": [
    {
     "output_type": "display_data",
     "data": {
      "text/plain": "Figure(layout=FigureLayout(height='420px'))",
      "application/vnd.jupyter.widget-view+json": {
       "version_major": 2,
       "version_minor": 0,
       "model_id": "8c0c4ffcd86b45458406f6acc8c20b50"
      }
     },
     "metadata": {}
    }
   ],
   "source": [
    "# Heatmap of temperature\n",
    "# Get the latitude and longitude.\n",
    "locations = city_data_df[[\"Lat\", \"Lng\"]]\n",
    "# Get the maximum temperature.\n",
    "max_temp = city_data_df[\"Max Temp\"]\n",
    "# Assign the figure variable.\n",
    "fig = gmaps.figure(center=(30.0, 31.0), zoom_level=1.5)\n",
    "# Assign the heatmap variable.\n",
    "heat_layer = gmaps.heatmap_layer(locations, weights=temps, dissipating=False, max_intensity=300, point_radius=4)\n",
    "# Add the heatmap layer.\n",
    "fig.add_layer(heat_layer)\n",
    "# Call the figure to plot the data.\n",
    "fig"
   ]
  },
  {
   "cell_type": "code",
   "execution_count": 7,
   "metadata": {},
   "outputs": [
    {
     "output_type": "display_data",
     "data": {
      "text/plain": "Figure(layout=FigureLayout(height='420px'))",
      "application/vnd.jupyter.widget-view+json": {
       "version_major": 2,
       "version_minor": 0,
       "model_id": "bed6863c94a14861b826f7bf0ee1e777"
      }
     },
     "metadata": {}
    }
   ],
   "source": [
    "# Heatmap of percent humidity\n",
    "locations = city_data_df[[\"Lat\", \"Lng\"]]\n",
    "humidity = city_data_df[\"Humidity\"]\n",
    "fig = gmaps.figure(center=(30.0, 31.0), zoom_level=1.5)\n",
    "heat_layer = gmaps.heatmap_layer(locations, weights=humidity, dissipating=False, max_intensity=300, point_radius=4)\n",
    "\n",
    "fig.add_layer(heat_layer)\n",
    "# Call the figure to plot the data.\n",
    "fig"
   ]
  },
  {
   "cell_type": "code",
   "execution_count": 8,
   "metadata": {},
   "outputs": [
    {
     "output_type": "display_data",
     "data": {
      "text/plain": "Figure(layout=FigureLayout(height='420px'))",
      "application/vnd.jupyter.widget-view+json": {
       "version_major": 2,
       "version_minor": 0,
       "model_id": "da22aa87daec4797bc68d3d12e0d6190"
      }
     },
     "metadata": {}
    }
   ],
   "source": [
    "# Heatmap of percent cloudiness\n",
    "locations = city_data_df[[\"Lat\", \"Lng\"]]\n",
    "clouds = city_data_df[\"Cloudiness\"]\n",
    "fig = gmaps.figure(center=(30.0, 31.0), zoom_level=1.5)\n",
    "heat_layer = gmaps.heatmap_layer(locations, weights=clouds, dissipating=False, max_intensity=300, point_radius=4)\n",
    "\n",
    "fig.add_layer(heat_layer)\n",
    "# Call the figure to plot the data.\n",
    "fig"
   ]
  },
  {
   "cell_type": "code",
   "execution_count": 9,
   "metadata": {},
   "outputs": [
    {
     "output_type": "display_data",
     "data": {
      "text/plain": "Figure(layout=FigureLayout(height='420px'))",
      "application/vnd.jupyter.widget-view+json": {
       "version_major": 2,
       "version_minor": 0,
       "model_id": "b84ce03e2f8d403cb96a2791021e3443"
      }
     },
     "metadata": {}
    }
   ],
   "source": [
    "# Heatmap of Wind Speed\n",
    "locations = city_data_df[[\"Lat\", \"Lng\"]]\n",
    "wind = city_data_df[\"Wind Speed\"]\n",
    "fig = gmaps.figure(center=(30.0, 31.0), zoom_level=1.5)\n",
    "heat_layer = gmaps.heatmap_layer(locations, weights=wind, dissipating=False, max_intensity=300, point_radius=4)\n",
    "\n",
    "fig.add_layer(heat_layer)\n",
    "# Call the figure to plot the data.\n",
    "fig"
   ]
  },
  {
   "cell_type": "code",
   "execution_count": 11,
   "metadata": {},
   "outputs": [],
   "source": [
    "# Ask the customer to add a minimum and maximum temperature value.\n",
    "min_temp = float(input(\"What is the minimum temperature you would like for your trip? \"))\n",
    "max_temp = float(input(\"What is the maximum temperature you would like for your trip? \"))"
   ]
  },
  {
   "cell_type": "code",
   "execution_count": 12,
   "metadata": {},
   "outputs": [
    {
     "output_type": "execute_result",
     "data": {
      "text/plain": [
       "    City_ID             City Country                 Date      Lat       Lng  \\\n",
       "7         7         Alvarado      MX  2021-01-27 16:05:01  18.7667  -95.7667   \n",
       "11       11  Bambous Virieux      MU  2021-01-27 16:07:26 -20.3428   57.7575   \n",
       "14       14        Catamarca      AR  2021-01-27 16:07:26 -28.4696  -65.7852   \n",
       "16       16          Rikitea      PF  2021-01-27 16:07:27 -23.1203 -134.9692   \n",
       "19       19       Georgetown      MY  2021-01-27 16:07:27   5.4112  100.3354   \n",
       "25       25             Chuy      UY  2021-01-27 16:07:28 -33.6971  -53.4616   \n",
       "35       35        Carnarvon      AU  2021-01-27 16:07:30 -24.8667  113.6333   \n",
       "36       36           Aitape      PG  2021-01-27 16:07:30  -3.1374  142.3475   \n",
       "37       37          Estrela      BR  2021-01-27 16:07:30 -28.0611  -50.9383   \n",
       "38       38            Kieta      PG  2021-01-27 16:07:30  -6.2167  155.6333   \n",
       "\n",
       "    Max Temp  Humidity  Cloudiness  Wind Speed  \n",
       "7      79.00        68           5        8.99  \n",
       "11     82.40        65          20        3.44  \n",
       "14     88.00        47          98        1.99  \n",
       "16     79.77        71           0       14.65  \n",
       "19     79.00        94          40        2.30  \n",
       "25     81.43        58         100        2.21  \n",
       "35     75.20        83           0       23.02  \n",
       "36     78.10        86         100        5.48  \n",
       "37     75.06        75         100       11.14  \n",
       "38     80.78        81         100        6.87  "
      ],
      "text/html": "<div>\n<style scoped>\n    .dataframe tbody tr th:only-of-type {\n        vertical-align: middle;\n    }\n\n    .dataframe tbody tr th {\n        vertical-align: top;\n    }\n\n    .dataframe thead th {\n        text-align: right;\n    }\n</style>\n<table border=\"1\" class=\"dataframe\">\n  <thead>\n    <tr style=\"text-align: right;\">\n      <th></th>\n      <th>City_ID</th>\n      <th>City</th>\n      <th>Country</th>\n      <th>Date</th>\n      <th>Lat</th>\n      <th>Lng</th>\n      <th>Max Temp</th>\n      <th>Humidity</th>\n      <th>Cloudiness</th>\n      <th>Wind Speed</th>\n    </tr>\n  </thead>\n  <tbody>\n    <tr>\n      <th>7</th>\n      <td>7</td>\n      <td>Alvarado</td>\n      <td>MX</td>\n      <td>2021-01-27 16:05:01</td>\n      <td>18.7667</td>\n      <td>-95.7667</td>\n      <td>79.00</td>\n      <td>68</td>\n      <td>5</td>\n      <td>8.99</td>\n    </tr>\n    <tr>\n      <th>11</th>\n      <td>11</td>\n      <td>Bambous Virieux</td>\n      <td>MU</td>\n      <td>2021-01-27 16:07:26</td>\n      <td>-20.3428</td>\n      <td>57.7575</td>\n      <td>82.40</td>\n      <td>65</td>\n      <td>20</td>\n      <td>3.44</td>\n    </tr>\n    <tr>\n      <th>14</th>\n      <td>14</td>\n      <td>Catamarca</td>\n      <td>AR</td>\n      <td>2021-01-27 16:07:26</td>\n      <td>-28.4696</td>\n      <td>-65.7852</td>\n      <td>88.00</td>\n      <td>47</td>\n      <td>98</td>\n      <td>1.99</td>\n    </tr>\n    <tr>\n      <th>16</th>\n      <td>16</td>\n      <td>Rikitea</td>\n      <td>PF</td>\n      <td>2021-01-27 16:07:27</td>\n      <td>-23.1203</td>\n      <td>-134.9692</td>\n      <td>79.77</td>\n      <td>71</td>\n      <td>0</td>\n      <td>14.65</td>\n    </tr>\n    <tr>\n      <th>19</th>\n      <td>19</td>\n      <td>Georgetown</td>\n      <td>MY</td>\n      <td>2021-01-27 16:07:27</td>\n      <td>5.4112</td>\n      <td>100.3354</td>\n      <td>79.00</td>\n      <td>94</td>\n      <td>40</td>\n      <td>2.30</td>\n    </tr>\n    <tr>\n      <th>25</th>\n      <td>25</td>\n      <td>Chuy</td>\n      <td>UY</td>\n      <td>2021-01-27 16:07:28</td>\n      <td>-33.6971</td>\n      <td>-53.4616</td>\n      <td>81.43</td>\n      <td>58</td>\n      <td>100</td>\n      <td>2.21</td>\n    </tr>\n    <tr>\n      <th>35</th>\n      <td>35</td>\n      <td>Carnarvon</td>\n      <td>AU</td>\n      <td>2021-01-27 16:07:30</td>\n      <td>-24.8667</td>\n      <td>113.6333</td>\n      <td>75.20</td>\n      <td>83</td>\n      <td>0</td>\n      <td>23.02</td>\n    </tr>\n    <tr>\n      <th>36</th>\n      <td>36</td>\n      <td>Aitape</td>\n      <td>PG</td>\n      <td>2021-01-27 16:07:30</td>\n      <td>-3.1374</td>\n      <td>142.3475</td>\n      <td>78.10</td>\n      <td>86</td>\n      <td>100</td>\n      <td>5.48</td>\n    </tr>\n    <tr>\n      <th>37</th>\n      <td>37</td>\n      <td>Estrela</td>\n      <td>BR</td>\n      <td>2021-01-27 16:07:30</td>\n      <td>-28.0611</td>\n      <td>-50.9383</td>\n      <td>75.06</td>\n      <td>75</td>\n      <td>100</td>\n      <td>11.14</td>\n    </tr>\n    <tr>\n      <th>38</th>\n      <td>38</td>\n      <td>Kieta</td>\n      <td>PG</td>\n      <td>2021-01-27 16:07:30</td>\n      <td>-6.2167</td>\n      <td>155.6333</td>\n      <td>80.78</td>\n      <td>81</td>\n      <td>100</td>\n      <td>6.87</td>\n    </tr>\n  </tbody>\n</table>\n</div>"
     },
     "metadata": {},
     "execution_count": 12
    }
   ],
   "source": [
    "# Filter the dataset to find the cities that fit the criteria.\n",
    "preferred_cities_df = city_data_df.loc[(city_data_df[\"Max Temp\"] <= max_temp) & \\\n",
    "                                       (city_data_df[\"Max Temp\"] >= min_temp)]\n",
    "preferred_cities_df.head(10)"
   ]
  },
  {
   "cell_type": "code",
   "execution_count": 13,
   "metadata": {},
   "outputs": [
    {
     "output_type": "execute_result",
     "data": {
      "text/plain": [
       "City_ID       155\n",
       "City          155\n",
       "Country       151\n",
       "Date          155\n",
       "Lat           155\n",
       "Lng           155\n",
       "Max Temp      155\n",
       "Humidity      155\n",
       "Cloudiness    155\n",
       "Wind Speed    155\n",
       "dtype: int64"
      ]
     },
     "metadata": {},
     "execution_count": 13
    }
   ],
   "source": [
    "preferred_cities_df.count()"
   ]
  },
  {
   "cell_type": "code",
   "execution_count": 15,
   "metadata": {},
   "outputs": [
    {
     "output_type": "execute_result",
     "data": {
      "text/plain": [
       "City_ID       0\n",
       "City          0\n",
       "Country       4\n",
       "Date          0\n",
       "Lat           0\n",
       "Lng           0\n",
       "Max Temp      0\n",
       "Humidity      0\n",
       "Cloudiness    0\n",
       "Wind Speed    0\n",
       "dtype: int64"
      ]
     },
     "metadata": {},
     "execution_count": 15
    }
   ],
   "source": [
    "preferred_cities_df.isnull().sum()"
   ]
  },
  {
   "cell_type": "code",
   "execution_count": 16,
   "metadata": {},
   "outputs": [
    {
     "output_type": "execute_result",
     "data": {
      "text/plain": [
       "     City_ID             City Country                 Date      Lat       Lng  \\\n",
       "7          7         Alvarado      MX  2021-01-27 16:05:01  18.7667  -95.7667   \n",
       "11        11  Bambous Virieux      MU  2021-01-27 16:07:26 -20.3428   57.7575   \n",
       "14        14        Catamarca      AR  2021-01-27 16:07:26 -28.4696  -65.7852   \n",
       "16        16          Rikitea      PF  2021-01-27 16:07:27 -23.1203 -134.9692   \n",
       "19        19       Georgetown      MY  2021-01-27 16:07:27   5.4112  100.3354   \n",
       "..       ...              ...     ...                  ...      ...       ...   \n",
       "552      552         Kalmunai      LK  2021-01-27 16:08:57   7.4167   81.8167   \n",
       "556      556       Banda Aceh      ID  2021-01-27 16:08:31   5.5577   95.3222   \n",
       "563      563      Port-Gentil      GA  2021-01-27 16:08:59  -0.7193    8.7815   \n",
       "564      564         Beruwala      LK  2021-01-27 16:04:14   6.4788   79.9828   \n",
       "565      565        Boa Vista      BR  2021-01-27 16:04:04   2.8197  -60.6733   \n",
       "\n",
       "     Max Temp  Humidity  Cloudiness  Wind Speed  \n",
       "7       79.00        68           5        8.99  \n",
       "11      82.40        65          20        3.44  \n",
       "14      88.00        47          98        1.99  \n",
       "16      79.77        71           0       14.65  \n",
       "19      79.00        94          40        2.30  \n",
       "..        ...       ...         ...         ...  \n",
       "552     76.33        77         100       11.32  \n",
       "556     78.89        81         100        4.14  \n",
       "563     80.60        78          20        2.30  \n",
       "564     75.99        76          71        8.86  \n",
       "565     87.80        48          75       10.36  \n",
       "\n",
       "[151 rows x 10 columns]"
      ],
      "text/html": "<div>\n<style scoped>\n    .dataframe tbody tr th:only-of-type {\n        vertical-align: middle;\n    }\n\n    .dataframe tbody tr th {\n        vertical-align: top;\n    }\n\n    .dataframe thead th {\n        text-align: right;\n    }\n</style>\n<table border=\"1\" class=\"dataframe\">\n  <thead>\n    <tr style=\"text-align: right;\">\n      <th></th>\n      <th>City_ID</th>\n      <th>City</th>\n      <th>Country</th>\n      <th>Date</th>\n      <th>Lat</th>\n      <th>Lng</th>\n      <th>Max Temp</th>\n      <th>Humidity</th>\n      <th>Cloudiness</th>\n      <th>Wind Speed</th>\n    </tr>\n  </thead>\n  <tbody>\n    <tr>\n      <th>7</th>\n      <td>7</td>\n      <td>Alvarado</td>\n      <td>MX</td>\n      <td>2021-01-27 16:05:01</td>\n      <td>18.7667</td>\n      <td>-95.7667</td>\n      <td>79.00</td>\n      <td>68</td>\n      <td>5</td>\n      <td>8.99</td>\n    </tr>\n    <tr>\n      <th>11</th>\n      <td>11</td>\n      <td>Bambous Virieux</td>\n      <td>MU</td>\n      <td>2021-01-27 16:07:26</td>\n      <td>-20.3428</td>\n      <td>57.7575</td>\n      <td>82.40</td>\n      <td>65</td>\n      <td>20</td>\n      <td>3.44</td>\n    </tr>\n    <tr>\n      <th>14</th>\n      <td>14</td>\n      <td>Catamarca</td>\n      <td>AR</td>\n      <td>2021-01-27 16:07:26</td>\n      <td>-28.4696</td>\n      <td>-65.7852</td>\n      <td>88.00</td>\n      <td>47</td>\n      <td>98</td>\n      <td>1.99</td>\n    </tr>\n    <tr>\n      <th>16</th>\n      <td>16</td>\n      <td>Rikitea</td>\n      <td>PF</td>\n      <td>2021-01-27 16:07:27</td>\n      <td>-23.1203</td>\n      <td>-134.9692</td>\n      <td>79.77</td>\n      <td>71</td>\n      <td>0</td>\n      <td>14.65</td>\n    </tr>\n    <tr>\n      <th>19</th>\n      <td>19</td>\n      <td>Georgetown</td>\n      <td>MY</td>\n      <td>2021-01-27 16:07:27</td>\n      <td>5.4112</td>\n      <td>100.3354</td>\n      <td>79.00</td>\n      <td>94</td>\n      <td>40</td>\n      <td>2.30</td>\n    </tr>\n    <tr>\n      <th>...</th>\n      <td>...</td>\n      <td>...</td>\n      <td>...</td>\n      <td>...</td>\n      <td>...</td>\n      <td>...</td>\n      <td>...</td>\n      <td>...</td>\n      <td>...</td>\n      <td>...</td>\n    </tr>\n    <tr>\n      <th>552</th>\n      <td>552</td>\n      <td>Kalmunai</td>\n      <td>LK</td>\n      <td>2021-01-27 16:08:57</td>\n      <td>7.4167</td>\n      <td>81.8167</td>\n      <td>76.33</td>\n      <td>77</td>\n      <td>100</td>\n      <td>11.32</td>\n    </tr>\n    <tr>\n      <th>556</th>\n      <td>556</td>\n      <td>Banda Aceh</td>\n      <td>ID</td>\n      <td>2021-01-27 16:08:31</td>\n      <td>5.5577</td>\n      <td>95.3222</td>\n      <td>78.89</td>\n      <td>81</td>\n      <td>100</td>\n      <td>4.14</td>\n    </tr>\n    <tr>\n      <th>563</th>\n      <td>563</td>\n      <td>Port-Gentil</td>\n      <td>GA</td>\n      <td>2021-01-27 16:08:59</td>\n      <td>-0.7193</td>\n      <td>8.7815</td>\n      <td>80.60</td>\n      <td>78</td>\n      <td>20</td>\n      <td>2.30</td>\n    </tr>\n    <tr>\n      <th>564</th>\n      <td>564</td>\n      <td>Beruwala</td>\n      <td>LK</td>\n      <td>2021-01-27 16:04:14</td>\n      <td>6.4788</td>\n      <td>79.9828</td>\n      <td>75.99</td>\n      <td>76</td>\n      <td>71</td>\n      <td>8.86</td>\n    </tr>\n    <tr>\n      <th>565</th>\n      <td>565</td>\n      <td>Boa Vista</td>\n      <td>BR</td>\n      <td>2021-01-27 16:04:04</td>\n      <td>2.8197</td>\n      <td>-60.6733</td>\n      <td>87.80</td>\n      <td>48</td>\n      <td>75</td>\n      <td>10.36</td>\n    </tr>\n  </tbody>\n</table>\n<p>151 rows × 10 columns</p>\n</div>"
     },
     "metadata": {},
     "execution_count": 16
    }
   ],
   "source": [
    "preferred_cities_df.dropna()"
   ]
  },
  {
   "cell_type": "code",
   "execution_count": 17,
   "metadata": {},
   "outputs": [
    {
     "output_type": "execute_result",
     "data": {
      "text/plain": [
       "City_ID       0\n",
       "City          0\n",
       "Country       4\n",
       "Date          0\n",
       "Lat           0\n",
       "Lng           0\n",
       "Max Temp      0\n",
       "Humidity      0\n",
       "Cloudiness    0\n",
       "Wind Speed    0\n",
       "dtype: int64"
      ]
     },
     "metadata": {},
     "execution_count": 17
    }
   ],
   "source": [
    "preferred_cities_df.isnull().sum()"
   ]
  },
  {
   "cell_type": "code",
   "execution_count": 18,
   "metadata": {},
   "outputs": [
    {
     "output_type": "execute_result",
     "data": {
      "text/plain": [
       "               City Country  Max Temp      Lat       Lng Hotel Name\n",
       "7          Alvarado      MX     79.00  18.7667  -95.7667           \n",
       "11  Bambous Virieux      MU     82.40 -20.3428   57.7575           \n",
       "14        Catamarca      AR     88.00 -28.4696  -65.7852           \n",
       "16          Rikitea      PF     79.77 -23.1203 -134.9692           \n",
       "19       Georgetown      MY     79.00   5.4112  100.3354           \n",
       "25             Chuy      UY     81.43 -33.6971  -53.4616           \n",
       "35        Carnarvon      AU     75.20 -24.8667  113.6333           \n",
       "36           Aitape      PG     78.10  -3.1374  142.3475           \n",
       "37          Estrela      BR     75.06 -28.0611  -50.9383           \n",
       "38            Kieta      PG     80.78  -6.2167  155.6333           "
      ],
      "text/html": "<div>\n<style scoped>\n    .dataframe tbody tr th:only-of-type {\n        vertical-align: middle;\n    }\n\n    .dataframe tbody tr th {\n        vertical-align: top;\n    }\n\n    .dataframe thead th {\n        text-align: right;\n    }\n</style>\n<table border=\"1\" class=\"dataframe\">\n  <thead>\n    <tr style=\"text-align: right;\">\n      <th></th>\n      <th>City</th>\n      <th>Country</th>\n      <th>Max Temp</th>\n      <th>Lat</th>\n      <th>Lng</th>\n      <th>Hotel Name</th>\n    </tr>\n  </thead>\n  <tbody>\n    <tr>\n      <th>7</th>\n      <td>Alvarado</td>\n      <td>MX</td>\n      <td>79.00</td>\n      <td>18.7667</td>\n      <td>-95.7667</td>\n      <td></td>\n    </tr>\n    <tr>\n      <th>11</th>\n      <td>Bambous Virieux</td>\n      <td>MU</td>\n      <td>82.40</td>\n      <td>-20.3428</td>\n      <td>57.7575</td>\n      <td></td>\n    </tr>\n    <tr>\n      <th>14</th>\n      <td>Catamarca</td>\n      <td>AR</td>\n      <td>88.00</td>\n      <td>-28.4696</td>\n      <td>-65.7852</td>\n      <td></td>\n    </tr>\n    <tr>\n      <th>16</th>\n      <td>Rikitea</td>\n      <td>PF</td>\n      <td>79.77</td>\n      <td>-23.1203</td>\n      <td>-134.9692</td>\n      <td></td>\n    </tr>\n    <tr>\n      <th>19</th>\n      <td>Georgetown</td>\n      <td>MY</td>\n      <td>79.00</td>\n      <td>5.4112</td>\n      <td>100.3354</td>\n      <td></td>\n    </tr>\n    <tr>\n      <th>25</th>\n      <td>Chuy</td>\n      <td>UY</td>\n      <td>81.43</td>\n      <td>-33.6971</td>\n      <td>-53.4616</td>\n      <td></td>\n    </tr>\n    <tr>\n      <th>35</th>\n      <td>Carnarvon</td>\n      <td>AU</td>\n      <td>75.20</td>\n      <td>-24.8667</td>\n      <td>113.6333</td>\n      <td></td>\n    </tr>\n    <tr>\n      <th>36</th>\n      <td>Aitape</td>\n      <td>PG</td>\n      <td>78.10</td>\n      <td>-3.1374</td>\n      <td>142.3475</td>\n      <td></td>\n    </tr>\n    <tr>\n      <th>37</th>\n      <td>Estrela</td>\n      <td>BR</td>\n      <td>75.06</td>\n      <td>-28.0611</td>\n      <td>-50.9383</td>\n      <td></td>\n    </tr>\n    <tr>\n      <th>38</th>\n      <td>Kieta</td>\n      <td>PG</td>\n      <td>80.78</td>\n      <td>-6.2167</td>\n      <td>155.6333</td>\n      <td></td>\n    </tr>\n  </tbody>\n</table>\n</div>"
     },
     "metadata": {},
     "execution_count": 18
    }
   ],
   "source": [
    "# Create DataFrame called hotel_df to store hotel names along with city, country, max temp, and coordinates.\n",
    "hotel_df = preferred_cities_df[[\"City\", \"Country\", \"Max Temp\", \"Lat\", \"Lng\"]].copy()\n",
    "hotel_df[\"Hotel Name\"] = \"\"\n",
    "hotel_df.head(10)"
   ]
  },
  {
   "cell_type": "code",
   "execution_count": 19,
   "metadata": {},
   "outputs": [],
   "source": [
    "# Set parameters to search for a hotel.\n",
    "params = {\n",
    "    \"radius\": 5000,\n",
    "    \"type\": \"lodging\",\n",
    "    \"key\": g_key\n",
    "}"
   ]
  },
  {
   "cell_type": "code",
   "execution_count": 27,
   "metadata": {},
   "outputs": [
    {
     "output_type": "stream",
     "name": "stdout",
     "text": [
      "Hotel not found... skipping.\n",
      "Hotel not found... skipping.\n",
      "Hotel not found... skipping.\n",
      "Hotel not found... skipping.\n",
      "Hotel not found... skipping.\n",
      "Hotel not found... skipping.\n",
      "Hotel not found... skipping.\n",
      "Hotel not found... skipping.\n",
      "Hotel not found... skipping.\n",
      "Hotel not found... skipping.\n",
      "Hotel not found... skipping.\n",
      "Hotel not found... skipping.\n",
      "Hotel not found... skipping.\n",
      "Hotel not found... skipping.\n"
     ]
    }
   ],
   "source": [
    "# Iterate through the DataFrame.\n",
    "for index, row in hotel_df.iterrows():\n",
    "    # Get the latitude and longitude.\n",
    "    lat = row[\"Lat\"]\n",
    "    lng = row[\"Lng\"]\n",
    "\n",
    "    # Add the latitude and longitude to location key for the params dictionary.\n",
    "    params[\"location\"] = f\"{lat},{lng}\"\n",
    "\n",
    "    # Use the search term: \"lodging\" and our latitude and longitude.\n",
    "    base_url = \"https://maps.googleapis.com/maps/api/place/nearbysearch/json\"\n",
    "    # Make request and get the JSON data from the search.\n",
    "    hotels = requests.get(base_url, params=params).json()\n",
    "    # Grab the first hotel from the results and store the name.\n",
    "    try:\n",
    "        hotel_df.loc[index, \"Hotel Name\"] = hotels[\"results\"][0][\"name\"]\n",
    "    except (IndexError):\n",
    "        print(\"Hotel not found... skipping.\")"
   ]
  },
  {
   "cell_type": "code",
   "execution_count": 29,
   "metadata": {},
   "outputs": [
    {
     "output_type": "execute_result",
     "data": {
      "text/plain": [
       "               City Country  Max Temp      Lat       Lng  \\\n",
       "7          Alvarado      MX     79.00  18.7667  -95.7667   \n",
       "11  Bambous Virieux      MU     82.40 -20.3428   57.7575   \n",
       "14        Catamarca      AR     88.00 -28.4696  -65.7852   \n",
       "16          Rikitea      PF     79.77 -23.1203 -134.9692   \n",
       "19       Georgetown      MY     79.00   5.4112  100.3354   \n",
       "25             Chuy      UY     81.43 -33.6971  -53.4616   \n",
       "35        Carnarvon      AU     75.20 -24.8667  113.6333   \n",
       "36           Aitape      PG     78.10  -3.1374  142.3475   \n",
       "37          Estrela      BR     75.06 -28.0611  -50.9383   \n",
       "38            Kieta      PG     80.78  -6.2167  155.6333   \n",
       "44            Kidal      ML     86.99  18.4411    1.4078   \n",
       "47         Luderitz     NaN     75.63 -26.6481   15.1594   \n",
       "48    Saint-Georges      GD     84.20  12.0564  -61.7485   \n",
       "50           Atuona      PF     77.95  -9.8000 -139.0333   \n",
       "53            Bilma      NE     80.35  18.6853   12.9164   \n",
       "\n",
       "                      Hotel Name  \n",
       "7                     Del Pastor  \n",
       "11                Casa Tia Villa  \n",
       "14  Amerian Catamarca Park Hotel  \n",
       "16                Pension Maro'i  \n",
       "19                Cititel Penang  \n",
       "25             Nuevo Hotel Plaza  \n",
       "35         Hospitality Carnarvon  \n",
       "36                                \n",
       "37                                \n",
       "38                                \n",
       "44                                \n",
       "47           LÜDERITZ NEST HOTEL  \n",
       "48                  Siesta Hotel  \n",
       "50                   Villa Enata  \n",
       "53    Expeditions Ténére voyages  "
      ],
      "text/html": "<div>\n<style scoped>\n    .dataframe tbody tr th:only-of-type {\n        vertical-align: middle;\n    }\n\n    .dataframe tbody tr th {\n        vertical-align: top;\n    }\n\n    .dataframe thead th {\n        text-align: right;\n    }\n</style>\n<table border=\"1\" class=\"dataframe\">\n  <thead>\n    <tr style=\"text-align: right;\">\n      <th></th>\n      <th>City</th>\n      <th>Country</th>\n      <th>Max Temp</th>\n      <th>Lat</th>\n      <th>Lng</th>\n      <th>Hotel Name</th>\n    </tr>\n  </thead>\n  <tbody>\n    <tr>\n      <th>7</th>\n      <td>Alvarado</td>\n      <td>MX</td>\n      <td>79.00</td>\n      <td>18.7667</td>\n      <td>-95.7667</td>\n      <td>Del Pastor</td>\n    </tr>\n    <tr>\n      <th>11</th>\n      <td>Bambous Virieux</td>\n      <td>MU</td>\n      <td>82.40</td>\n      <td>-20.3428</td>\n      <td>57.7575</td>\n      <td>Casa Tia Villa</td>\n    </tr>\n    <tr>\n      <th>14</th>\n      <td>Catamarca</td>\n      <td>AR</td>\n      <td>88.00</td>\n      <td>-28.4696</td>\n      <td>-65.7852</td>\n      <td>Amerian Catamarca Park Hotel</td>\n    </tr>\n    <tr>\n      <th>16</th>\n      <td>Rikitea</td>\n      <td>PF</td>\n      <td>79.77</td>\n      <td>-23.1203</td>\n      <td>-134.9692</td>\n      <td>Pension Maro'i</td>\n    </tr>\n    <tr>\n      <th>19</th>\n      <td>Georgetown</td>\n      <td>MY</td>\n      <td>79.00</td>\n      <td>5.4112</td>\n      <td>100.3354</td>\n      <td>Cititel Penang</td>\n    </tr>\n    <tr>\n      <th>25</th>\n      <td>Chuy</td>\n      <td>UY</td>\n      <td>81.43</td>\n      <td>-33.6971</td>\n      <td>-53.4616</td>\n      <td>Nuevo Hotel Plaza</td>\n    </tr>\n    <tr>\n      <th>35</th>\n      <td>Carnarvon</td>\n      <td>AU</td>\n      <td>75.20</td>\n      <td>-24.8667</td>\n      <td>113.6333</td>\n      <td>Hospitality Carnarvon</td>\n    </tr>\n    <tr>\n      <th>36</th>\n      <td>Aitape</td>\n      <td>PG</td>\n      <td>78.10</td>\n      <td>-3.1374</td>\n      <td>142.3475</td>\n      <td></td>\n    </tr>\n    <tr>\n      <th>37</th>\n      <td>Estrela</td>\n      <td>BR</td>\n      <td>75.06</td>\n      <td>-28.0611</td>\n      <td>-50.9383</td>\n      <td></td>\n    </tr>\n    <tr>\n      <th>38</th>\n      <td>Kieta</td>\n      <td>PG</td>\n      <td>80.78</td>\n      <td>-6.2167</td>\n      <td>155.6333</td>\n      <td></td>\n    </tr>\n    <tr>\n      <th>44</th>\n      <td>Kidal</td>\n      <td>ML</td>\n      <td>86.99</td>\n      <td>18.4411</td>\n      <td>1.4078</td>\n      <td></td>\n    </tr>\n    <tr>\n      <th>47</th>\n      <td>Luderitz</td>\n      <td>NaN</td>\n      <td>75.63</td>\n      <td>-26.6481</td>\n      <td>15.1594</td>\n      <td>LÜDERITZ NEST HOTEL</td>\n    </tr>\n    <tr>\n      <th>48</th>\n      <td>Saint-Georges</td>\n      <td>GD</td>\n      <td>84.20</td>\n      <td>12.0564</td>\n      <td>-61.7485</td>\n      <td>Siesta Hotel</td>\n    </tr>\n    <tr>\n      <th>50</th>\n      <td>Atuona</td>\n      <td>PF</td>\n      <td>77.95</td>\n      <td>-9.8000</td>\n      <td>-139.0333</td>\n      <td>Villa Enata</td>\n    </tr>\n    <tr>\n      <th>53</th>\n      <td>Bilma</td>\n      <td>NE</td>\n      <td>80.35</td>\n      <td>18.6853</td>\n      <td>12.9164</td>\n      <td>Expeditions Ténére voyages</td>\n    </tr>\n  </tbody>\n</table>\n</div>"
     },
     "metadata": {},
     "execution_count": 29
    }
   ],
   "source": [
    "hotel_df.head(15)"
   ]
  },
  {
   "cell_type": "code",
   "execution_count": 31,
   "metadata": {},
   "outputs": [
    {
     "output_type": "display_data",
     "data": {
      "text/plain": "Figure(layout=FigureLayout(height='420px'))",
      "application/vnd.jupyter.widget-view+json": {
       "version_major": 2,
       "version_minor": 0,
       "model_id": "f2481c3fd36c435b8e5c0069a8ad6c86"
      }
     },
     "metadata": {}
    }
   ],
   "source": [
    "# Add a heatmap of temperature for the vacation spots and marker for each city.\n",
    "locations = hotel_df[[\"Lat\", \"Lng\"]]\n",
    "max_temp = hotel_df[\"Max Temp\"]\n",
    "fig = gmaps.figure(center=(30.0, 31.0), zoom_level=1.5)\n",
    "heat_layer = gmaps.heatmap_layer(locations, weights=max_temp,\n",
    "             dissipating=False, max_intensity=300, point_radius=4)\n",
    "marker_layer = gmaps.marker_layer(locations)\n",
    "fig.add_layer(heat_layer)\n",
    "fig.add_layer(marker_layer)\n",
    "# Call the figure to plot the data.\n",
    "fig"
   ]
  },
  {
   "cell_type": "code",
   "execution_count": 32,
   "metadata": {},
   "outputs": [],
   "source": [
    "info_box_template = \"\"\"\n",
    "<dl>\n",
    "<dt>Hotel Name</dt><dd>{Hotel Name}</dd>\n",
    "<dt>City</dt><dd>{City}</dd>\n",
    "<dt>Country</dt><dd>{Country}</dd>\n",
    "<dt>Max Temp</dt><dd>{Max Temp} °F</dd>\n",
    "</dl>\n",
    "\"\"\"\n",
    "# Store the DataFrame Row.\n",
    "hotel_info = [info_box_template.format(**row) for index, row in hotel_df.iterrows()]"
   ]
  },
  {
   "cell_type": "code",
   "execution_count": 33,
   "metadata": {},
   "outputs": [
    {
     "output_type": "display_data",
     "data": {
      "text/plain": "Figure(layout=FigureLayout(height='420px'))",
      "application/vnd.jupyter.widget-view+json": {
       "version_major": 2,
       "version_minor": 0,
       "model_id": "54ae0fa7f2564445be839e55a7ec65d2"
      }
     },
     "metadata": {}
    }
   ],
   "source": [
    "# Add a heatmap of temperature for the vacation spots and a pop-up marker for each city.\n",
    "locations = hotel_df[[\"Lat\", \"Lng\"]]\n",
    "max_temp = hotel_df[\"Max Temp\"]\n",
    "fig = gmaps.figure(center=(30.0, 31.0), zoom_level=1.5)\n",
    "heat_layer = gmaps.heatmap_layer(locations, weights=max_temp,dissipating=False,\n",
    "             max_intensity=300, point_radius=4)\n",
    "marker_layer = gmaps.marker_layer(locations, info_box_content=hotel_info)\n",
    "fig.add_layer(heat_layer)\n",
    "fig.add_layer(marker_layer)\n",
    "\n",
    "# Call the figure to plot the data.\n",
    "fig"
   ]
  },
  {
   "cell_type": "code",
   "execution_count": null,
   "metadata": {},
   "outputs": [],
   "source": []
  }
 ],
 "metadata": {
  "kernelspec": {
   "display_name": "PythonData",
   "language": "python",
   "name": "pythondata"
  },
  "language_info": {
   "codemirror_mode": {
    "name": "ipython",
    "version": 3
   },
   "file_extension": ".py",
   "mimetype": "text/x-python",
   "name": "python",
   "nbconvert_exporter": "python",
   "pygments_lexer": "ipython3",
   "version": "3.7.9-final"
  }
 },
 "nbformat": 4,
 "nbformat_minor": 2
}