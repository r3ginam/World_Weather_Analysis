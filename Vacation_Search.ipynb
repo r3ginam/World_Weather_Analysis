{
 "cells": [
  {
   "cell_type": "markdown",
   "metadata": {},
   "source": [
    "## Deliverable 2. Create a Customer Travel Destinations Map."
   ]
  },
  {
   "cell_type": "code",
   "execution_count": 1,
   "metadata": {},
   "outputs": [],
   "source": [
    "# Dependencies and Setup\n",
    "import pandas as pd\n",
    "import requests\n",
    "import gmaps\n",
    "\n",
    "# Import API key\n",
    "from config import g_key\n",
    "\n",
    "# Configure gmaps API key\n",
    "gmaps.configure(api_key=g_key)"
   ]
  },
  {
   "cell_type": "code",
   "execution_count": 3,
   "metadata": {},
   "outputs": [
    {
     "output_type": "execute_result",
     "data": {
      "text/plain": [
       "   City_ID             City Country      Lat      Lng  Max Temp  Humidity  \\\n",
       "0        0  Arraial Do Cabo      BR -22.9661 -42.0278     91.40        57   \n",
       "1        1     Krasnoselkup      RU  65.7000  82.4667    -32.85        80   \n",
       "2        2     Punta Arenas      CL -53.1500 -70.9167     48.20        57   \n",
       "3        3    Novyy Urengoy      RU  66.0833  76.6333    -32.08        83   \n",
       "4        4           Nevers      FR  46.9167   3.3333     53.60        94   \n",
       "\n",
       "   Cloudiness  Wind Speed Current Description                 Date  \n",
       "0           0       20.71           clear sky  2021-01-28 20:07:50  \n",
       "1         100       14.83     overcast clouds  2021-01-28 20:13:52  \n",
       "2          75       23.02       broken clouds  2021-01-28 20:07:58  \n",
       "3         100       11.21     overcast clouds  2021-01-28 20:10:53  \n",
       "4          75       12.66       broken clouds  2021-01-28 20:13:53  "
      ],
      "text/html": "<div>\n<style scoped>\n    .dataframe tbody tr th:only-of-type {\n        vertical-align: middle;\n    }\n\n    .dataframe tbody tr th {\n        vertical-align: top;\n    }\n\n    .dataframe thead th {\n        text-align: right;\n    }\n</style>\n<table border=\"1\" class=\"dataframe\">\n  <thead>\n    <tr style=\"text-align: right;\">\n      <th></th>\n      <th>City_ID</th>\n      <th>City</th>\n      <th>Country</th>\n      <th>Lat</th>\n      <th>Lng</th>\n      <th>Max Temp</th>\n      <th>Humidity</th>\n      <th>Cloudiness</th>\n      <th>Wind Speed</th>\n      <th>Current Description</th>\n      <th>Date</th>\n    </tr>\n  </thead>\n  <tbody>\n    <tr>\n      <th>0</th>\n      <td>0</td>\n      <td>Arraial Do Cabo</td>\n      <td>BR</td>\n      <td>-22.9661</td>\n      <td>-42.0278</td>\n      <td>91.40</td>\n      <td>57</td>\n      <td>0</td>\n      <td>20.71</td>\n      <td>clear sky</td>\n      <td>2021-01-28 20:07:50</td>\n    </tr>\n    <tr>\n      <th>1</th>\n      <td>1</td>\n      <td>Krasnoselkup</td>\n      <td>RU</td>\n      <td>65.7000</td>\n      <td>82.4667</td>\n      <td>-32.85</td>\n      <td>80</td>\n      <td>100</td>\n      <td>14.83</td>\n      <td>overcast clouds</td>\n      <td>2021-01-28 20:13:52</td>\n    </tr>\n    <tr>\n      <th>2</th>\n      <td>2</td>\n      <td>Punta Arenas</td>\n      <td>CL</td>\n      <td>-53.1500</td>\n      <td>-70.9167</td>\n      <td>48.20</td>\n      <td>57</td>\n      <td>75</td>\n      <td>23.02</td>\n      <td>broken clouds</td>\n      <td>2021-01-28 20:07:58</td>\n    </tr>\n    <tr>\n      <th>3</th>\n      <td>3</td>\n      <td>Novyy Urengoy</td>\n      <td>RU</td>\n      <td>66.0833</td>\n      <td>76.6333</td>\n      <td>-32.08</td>\n      <td>83</td>\n      <td>100</td>\n      <td>11.21</td>\n      <td>overcast clouds</td>\n      <td>2021-01-28 20:10:53</td>\n    </tr>\n    <tr>\n      <th>4</th>\n      <td>4</td>\n      <td>Nevers</td>\n      <td>FR</td>\n      <td>46.9167</td>\n      <td>3.3333</td>\n      <td>53.60</td>\n      <td>94</td>\n      <td>75</td>\n      <td>12.66</td>\n      <td>broken clouds</td>\n      <td>2021-01-28 20:13:53</td>\n    </tr>\n  </tbody>\n</table>\n</div>"
     },
     "metadata": {},
     "execution_count": 3
    }
   ],
   "source": [
    "# 1. Import the WeatherPy_database.csv file. \n",
    "city_data_df = pd.read_csv(\"Weather_Database/Weather_Database.csv\")\n",
    "city_data_df.head()"
   ]
  },
  {
   "cell_type": "code",
   "execution_count": 4,
   "metadata": {},
   "outputs": [],
   "source": [
    "# 2. Prompt the user to enter minimum and maximum temperature criteria \n",
    "min_temp = float(input(\"What is the minimum temperature you would like for your trip? \"))\n",
    "max_temp = float(input(\"What is the maximum temperature you would like for your trip? \"))"
   ]
  },
  {
   "cell_type": "code",
   "execution_count": 5,
   "metadata": {},
   "outputs": [
    {
     "output_type": "execute_result",
     "data": {
      "text/plain": [
       "    City_ID             City Country      Lat       Lng  Max Temp  Humidity  \\\n",
       "0         0  Arraial Do Cabo      BR -22.9661  -42.0278     91.40        57   \n",
       "6         6          Kavieng      PG  -2.5744  150.7967     82.83        76   \n",
       "8         8            Kapaa      US  22.0752 -159.3190     75.20        78   \n",
       "13       13             Hilo      US  19.7297 -155.0900     75.20        69   \n",
       "14       14          Rikitea      PF -23.1203 -134.9692     79.68        68   \n",
       "21       21         Cabatuan      PH  10.8794  122.4860     72.64        88   \n",
       "23       23           Calama      CL -22.4667  -68.9333     75.20        13   \n",
       "24       24          Manggar      ID  -2.8833  108.2667     77.07        88   \n",
       "25       25         Umm Lajj      SA  25.0213   37.2685     70.59        59   \n",
       "27       27    Mar Del Plata      AR -38.0023  -57.5575     82.40        44   \n",
       "\n",
       "    Cloudiness  Wind Speed Current Description                 Date  \n",
       "0            0       20.71           clear sky  2021-01-28 20:07:50  \n",
       "6           59        9.37       broken clouds  2021-01-28 20:13:00  \n",
       "8           75       17.27       broken clouds  2021-01-28 20:12:02  \n",
       "13          75        5.75          light rain  2021-01-28 20:12:14  \n",
       "14          89        6.31     overcast clouds  2021-01-28 20:13:54  \n",
       "21          47       13.73    scattered clouds  2021-01-28 20:13:55  \n",
       "23           0       23.02           clear sky  2021-01-28 20:13:56  \n",
       "24          99        8.72     overcast clouds  2021-01-28 20:13:07  \n",
       "25          44        7.43    scattered clouds  2021-01-28 20:13:56  \n",
       "27          75        8.05       broken clouds  2021-01-28 20:08:39  "
      ],
      "text/html": "<div>\n<style scoped>\n    .dataframe tbody tr th:only-of-type {\n        vertical-align: middle;\n    }\n\n    .dataframe tbody tr th {\n        vertical-align: top;\n    }\n\n    .dataframe thead th {\n        text-align: right;\n    }\n</style>\n<table border=\"1\" class=\"dataframe\">\n  <thead>\n    <tr style=\"text-align: right;\">\n      <th></th>\n      <th>City_ID</th>\n      <th>City</th>\n      <th>Country</th>\n      <th>Lat</th>\n      <th>Lng</th>\n      <th>Max Temp</th>\n      <th>Humidity</th>\n      <th>Cloudiness</th>\n      <th>Wind Speed</th>\n      <th>Current Description</th>\n      <th>Date</th>\n    </tr>\n  </thead>\n  <tbody>\n    <tr>\n      <th>0</th>\n      <td>0</td>\n      <td>Arraial Do Cabo</td>\n      <td>BR</td>\n      <td>-22.9661</td>\n      <td>-42.0278</td>\n      <td>91.40</td>\n      <td>57</td>\n      <td>0</td>\n      <td>20.71</td>\n      <td>clear sky</td>\n      <td>2021-01-28 20:07:50</td>\n    </tr>\n    <tr>\n      <th>6</th>\n      <td>6</td>\n      <td>Kavieng</td>\n      <td>PG</td>\n      <td>-2.5744</td>\n      <td>150.7967</td>\n      <td>82.83</td>\n      <td>76</td>\n      <td>59</td>\n      <td>9.37</td>\n      <td>broken clouds</td>\n      <td>2021-01-28 20:13:00</td>\n    </tr>\n    <tr>\n      <th>8</th>\n      <td>8</td>\n      <td>Kapaa</td>\n      <td>US</td>\n      <td>22.0752</td>\n      <td>-159.3190</td>\n      <td>75.20</td>\n      <td>78</td>\n      <td>75</td>\n      <td>17.27</td>\n      <td>broken clouds</td>\n      <td>2021-01-28 20:12:02</td>\n    </tr>\n    <tr>\n      <th>13</th>\n      <td>13</td>\n      <td>Hilo</td>\n      <td>US</td>\n      <td>19.7297</td>\n      <td>-155.0900</td>\n      <td>75.20</td>\n      <td>69</td>\n      <td>75</td>\n      <td>5.75</td>\n      <td>light rain</td>\n      <td>2021-01-28 20:12:14</td>\n    </tr>\n    <tr>\n      <th>14</th>\n      <td>14</td>\n      <td>Rikitea</td>\n      <td>PF</td>\n      <td>-23.1203</td>\n      <td>-134.9692</td>\n      <td>79.68</td>\n      <td>68</td>\n      <td>89</td>\n      <td>6.31</td>\n      <td>overcast clouds</td>\n      <td>2021-01-28 20:13:54</td>\n    </tr>\n    <tr>\n      <th>21</th>\n      <td>21</td>\n      <td>Cabatuan</td>\n      <td>PH</td>\n      <td>10.8794</td>\n      <td>122.4860</td>\n      <td>72.64</td>\n      <td>88</td>\n      <td>47</td>\n      <td>13.73</td>\n      <td>scattered clouds</td>\n      <td>2021-01-28 20:13:55</td>\n    </tr>\n    <tr>\n      <th>23</th>\n      <td>23</td>\n      <td>Calama</td>\n      <td>CL</td>\n      <td>-22.4667</td>\n      <td>-68.9333</td>\n      <td>75.20</td>\n      <td>13</td>\n      <td>0</td>\n      <td>23.02</td>\n      <td>clear sky</td>\n      <td>2021-01-28 20:13:56</td>\n    </tr>\n    <tr>\n      <th>24</th>\n      <td>24</td>\n      <td>Manggar</td>\n      <td>ID</td>\n      <td>-2.8833</td>\n      <td>108.2667</td>\n      <td>77.07</td>\n      <td>88</td>\n      <td>99</td>\n      <td>8.72</td>\n      <td>overcast clouds</td>\n      <td>2021-01-28 20:13:07</td>\n    </tr>\n    <tr>\n      <th>25</th>\n      <td>25</td>\n      <td>Umm Lajj</td>\n      <td>SA</td>\n      <td>25.0213</td>\n      <td>37.2685</td>\n      <td>70.59</td>\n      <td>59</td>\n      <td>44</td>\n      <td>7.43</td>\n      <td>scattered clouds</td>\n      <td>2021-01-28 20:13:56</td>\n    </tr>\n    <tr>\n      <th>27</th>\n      <td>27</td>\n      <td>Mar Del Plata</td>\n      <td>AR</td>\n      <td>-38.0023</td>\n      <td>-57.5575</td>\n      <td>82.40</td>\n      <td>44</td>\n      <td>75</td>\n      <td>8.05</td>\n      <td>broken clouds</td>\n      <td>2021-01-28 20:08:39</td>\n    </tr>\n  </tbody>\n</table>\n</div>"
     },
     "metadata": {},
     "execution_count": 5
    }
   ],
   "source": [
    "# 3. Filter the city_data_df DataFrame using the input statements to create a new DataFrame using the loc method.\n",
    "preferred_cities_df = city_data_df.loc[(city_data_df[\"Max Temp\"] <= max_temp) & \\\n",
    "                                       (city_data_df[\"Max Temp\"] >= min_temp)]\n",
    "preferred_cities_df.head(10)"
   ]
  },
  {
   "cell_type": "code",
   "execution_count": 8,
   "metadata": {},
   "outputs": [
    {
     "output_type": "execute_result",
     "data": {
      "text/plain": [
       "City_ID                0\n",
       "City                   0\n",
       "Country                2\n",
       "Lat                    0\n",
       "Lng                    0\n",
       "Max Temp               0\n",
       "Humidity               0\n",
       "Cloudiness             0\n",
       "Wind Speed             0\n",
       "Current Description    0\n",
       "Date                   0\n",
       "dtype: int64"
      ]
     },
     "metadata": {},
     "execution_count": 8
    }
   ],
   "source": [
    "# 4a. Determine if there are any empty rows.\n",
    "preferred_cities_df.isnull().sum()"
   ]
  },
  {
   "cell_type": "code",
   "execution_count": 7,
   "metadata": {},
   "outputs": [],
   "source": [
    "# 4b. Drop any empty rows and create a new DataFrame that doesn’t have empty rows.\n",
    "clean_df = preferred_cities_df.dropna()"
   ]
  },
  {
   "cell_type": "code",
   "execution_count": 7,
   "metadata": {},
   "outputs": [],
   "source": [
    "# 5a. Create DataFrame called hotel_df to store hotel names along with city, country, max temp, and coordinates.\n",
    "hotel_df = clean_df[[\"City\", \"Country\", \"Max Temp\", \"Current Description\", \"Lat\", \"Lng\"]].copy()\n",
    "\n",
    "# 5b. Create a new column \"Hotel Name\"\n",
    "hotel_df[\"Hotel Name\"] = \"\"\n",
    "hotel_df.head(10)"
   ]
  },
  {
   "cell_type": "code",
   "execution_count": 8,
   "metadata": {},
   "outputs": [],
   "source": [
    "# 6a. Set parameters to search for hotels with 5000 meters.\n",
    "params = {\n",
    "    \"radius\": 5000,\n",
    "    \"type\": \"lodging\",\n",
    "    \"key\": g_key\n",
    "}\n",
    "\n",
    "# 6b. Iterate through the hotel DataFrame.\n",
    "for index, row in hotel_df.iterrows():\n",
    "    # 6c. Get latitude and longitude from DataFrame\n",
    "    lat = row[\"Lat\"]\n",
    "    lng = row[\"Lng\"]\n",
    "    \n",
    "    # 6d. Set up the base URL for the Google Directions API to get JSON data.\n",
    "    base_url = \"https://maps.googleapis.com/maps/api/place/nearbysearch/json\"    \n",
    "\n",
    "    # 6e. Make request and retrieve the JSON data from the search. \n",
    "    hotels = requests.get(base_url, params=params).json()\n",
    "    \n",
    "    # 6f. Get the first hotel from the results and store the name, if a hotel isn't found skip the city.\n",
    "    try:\n",
    "        hotel_df.loc[index, \"Hotel Name\"] = hotels[\"results\"][0][\"name\"]\n",
    "    except (IndexError):\n",
    "        print(\"Hotel not found... skipping.\")    \n",
    "        "
   ]
  },
  {
   "cell_type": "code",
   "execution_count": 9,
   "metadata": {},
   "outputs": [],
   "source": [
    "# 7. Drop the rows where there is no Hotel Name.\n",
    "hotel_df.dropna()"
   ]
  },
  {
   "cell_type": "code",
   "execution_count": 10,
   "metadata": {},
   "outputs": [],
   "source": [
    "# 8a. Create the output File (CSV)\n",
    "\n",
    "# 8b. Export the City_Data into a csv\n",
    "clean_hotel_df.to_csv(output_data_file, index_label=\"City_ID\")"
   ]
  },
  {
   "cell_type": "code",
   "execution_count": 11,
   "metadata": {},
   "outputs": [],
   "source": [
    "# 9. Using the template add city name, the country code, the weather description and maximum temperature for the city.\n",
    "info_box_template = \"\"\"\n",
    "\n",
    "\"\"\"\n",
    "\n",
    "# 10a. Get the data from each row and add it to the formatting template and store the data in a list.\n",
    "hotel_info = [info_box_template.format(**row) for index, row in clean_hotel_df.iterrows()]\n",
    "\n",
    "# 10b. Get the latitude and longitude from each row and store in a new DataFrame.\n",
    "locations = clean_hotel_df[[\"Lat\", \"Lng\"]]"
   ]
  },
  {
   "cell_type": "code",
   "execution_count": 12,
   "metadata": {},
   "outputs": [],
   "source": [
    "# 11a. Add a marker layer for each city to the map. \n",
    "\n",
    "# 11b. Display the figure\n"
   ]
  },
  {
   "cell_type": "code",
   "execution_count": null,
   "metadata": {},
   "outputs": [],
   "source": []
  },
  {
   "cell_type": "code",
   "execution_count": null,
   "metadata": {},
   "outputs": [],
   "source": []
  }
 ],
 "metadata": {
  "kernelspec": {
   "display_name": "PythonData",
   "language": "python",
   "name": "pythondata"
  },
  "language_info": {
   "codemirror_mode": {
    "name": "ipython",
    "version": 3
   },
   "file_extension": ".py",
   "mimetype": "text/x-python",
   "name": "python",
   "nbconvert_exporter": "python",
   "pygments_lexer": "ipython3",
   "version": "3.7.9-final"
  },
  "latex_envs": {
   "LaTeX_envs_menu_present": true,
   "autoclose": false,
   "autocomplete": true,
   "bibliofile": "biblio.bib",
   "cite_by": "apalike",
   "current_citInitial": 1,
   "eqLabelWithNumbers": true,
   "eqNumInitial": 1,
   "hotkeys": {
    "equation": "Ctrl-E",
    "itemize": "Ctrl-I"
   },
   "labels_anchors": false,
   "latex_user_defs": false,
   "report_style_numbering": false,
   "user_envs_cfg": false
  }
 },
 "nbformat": 4,
 "nbformat_minor": 2
}